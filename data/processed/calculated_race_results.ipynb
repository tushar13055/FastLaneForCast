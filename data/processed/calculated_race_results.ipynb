{
 "cells": [
  {
   "cell_type": "markdown",
   "metadata": {},
   "source": [
    "## Create spark context"
   ]
  },
  {
   "cell_type": "code",
   "execution_count": 1,
   "metadata": {},
   "outputs": [
    {
     "name": "stderr",
     "output_type": "stream",
     "text": [
      "/home/sunbeam/.local/lib/python3.6/site-packages/pyspark/context.py:238: FutureWarning: Python 3.6 support is deprecated in Spark 3.2.\n",
      "  FutureWarning\n"
     ]
    }
   ],
   "source": [
    "#Entrypoint 2.x\n",
    "from pyspark.sql import SparkSession\n",
    "from pyspark.sql.types import *\n",
    "from pyspark.sql.functions import *\n",
    "spark = SparkSession.builder.config(\"spark.sql.shuffle.partitions\", \"2\").appName(\"InjestionProcessing\").master(\"local[2]\").getOrCreate()\n",
    "\n",
    "# On yarn:\n",
    "# spark = SparkSession.builder.appName(\"Spark SQL basic example\").enableHiveSupport().master(\"yarn\").getOrCreate()\n",
    "# specify .master(\"yarn\")\n",
    "\n",
    "sc = spark.sparkContext"
   ]
  },
  {
   "cell_type": "code",
   "execution_count": 5,
   "metadata": {},
   "outputs": [],
   "source": [
    "%run \"../../includes/configuration\""
   ]
  },
  {
   "cell_type": "code",
   "execution_count": 6,
   "metadata": {},
   "outputs": [],
   "source": [
    "results = spark.read.option(\"header\", True).parquet(f\"{processed_folder_path}/results\")\n",
    "races = spark.read.option(\"header\", True).csv(f\"{data}/races.csv\")\n",
    "qualifying = spark.read.option(\"header\", True).csv(f\"{data}/qualifying.csv\")\n",
    "drivers = spark.read.option(\"header\", True).csv(f\"{data}/drivers.csv\")\n",
    "constructors = spark.read.option(\"header\", True).csv(f\"{data}/constructors.csv\")\n",
    "circuits = spark.read.option(\"header\", True).csv(f\"{data}/circuits.csv\")"
   ]
  },
  {
   "cell_type": "code",
   "execution_count": 9,
   "metadata": {},
   "outputs": [],
   "source": [
    "circuits_df = circuits.withColumnRenamed(\"circuitId\", \"circuit_id\").withColumnRenamed(\"circuitRef\", \"circuit_ref\").withColumnRenamed(\"name\", \"circuit_name\").withColumnRenamed(\"location\", \"circuit_location\").withColumnRenamed(\"country\", \"circuit_country\").withColumnRenamed(\"lat\", \"latitude\").withColumnRenamed(\"lng\", \"longitude\")"
   ]
  },
  {
   "cell_type": "code",
   "execution_count": 13,
   "metadata": {},
   "outputs": [],
   "source": [
    "circuits_df = circuits_df.drop(\"url\")"
   ]
  },
  {
   "cell_type": "code",
   "execution_count": 15,
   "metadata": {},
   "outputs": [
    {
     "name": "stdout",
     "output_type": "stream",
     "text": [
      "+----------+-----------+--------------------+----------------+---------------+--------+---------+---+\n",
      "|circuit_id|circuit_ref|        circuit_name|circuit_location|circuit_country|latitude|longitude|alt|\n",
      "+----------+-----------+--------------------+----------------+---------------+--------+---------+---+\n",
      "|         1|albert_park|Albert Park Grand...|       Melbourne|      Australia|-37.8497|  144.968| 10|\n",
      "+----------+-----------+--------------------+----------------+---------------+--------+---------+---+\n",
      "only showing top 1 row\n",
      "\n"
     ]
    }
   ],
   "source": [
    "# circuits_df.write.mode(\"overwrite\").parquet(f\"{processed_folder_path}/circuits\")"
   ]
  },
  {
   "cell_type": "code",
   "execution_count": null,
   "metadata": {},
   "outputs": [],
   "source": []
  }
 ],
 "metadata": {
  "kernelspec": {
   "display_name": "Python 3",
   "language": "python",
   "name": "python3"
  },
  "language_info": {
   "codemirror_mode": {
    "name": "ipython",
    "version": 3
   },
   "file_extension": ".py",
   "mimetype": "text/x-python",
   "name": "python",
   "nbconvert_exporter": "python",
   "pygments_lexer": "ipython3",
   "version": "3.6.9"
  }
 },
 "nbformat": 4,
 "nbformat_minor": 2
}
