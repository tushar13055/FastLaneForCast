{
 "cells": [
  {
   "cell_type": "markdown",
   "metadata": {},
   "source": [
    "## Create spark context"
   ]
  },
  {
   "cell_type": "code",
   "execution_count": 52,
   "metadata": {},
   "outputs": [],
   "source": [
    "#Entrypoint 2.x\n",
    "from pyspark.sql import SparkSession\n",
    "from pyspark.sql.types import *\n",
    "from pyspark.sql.functions import *\n",
    "spark = SparkSession.builder.config(\"spark.sql.shuffle.partitions\", \"2\").appName(\"InjestionProcessing\").master(\"local[2]\").getOrCreate()\n",
    "\n",
    "# On yarn:\n",
    "# spark = SparkSession.builder.appName(\"Spark SQL basic example\").enableHiveSupport().master(\"yarn\").getOrCreate()\n",
    "# specify .master(\"yarn\")\n",
    "\n",
    "sc = spark.sparkContext"
   ]
  },
  {
   "cell_type": "code",
   "execution_count": 53,
   "metadata": {},
   "outputs": [],
   "source": [
    "%run \"includes/configuration\""
   ]
  },
  {
   "cell_type": "markdown",
   "metadata": {},
   "source": [
    "## Read files"
   ]
  },
  {
   "cell_type": "code",
   "execution_count": 54,
   "metadata": {},
   "outputs": [],
   "source": [
    "results = spark.read.option(\"header\", True).parquet(f\"{processed_folder_path}/results\")\n",
    "races = spark.read.option(\"header\", True).parquet(f\"{processed_folder_path}/races\")\n",
    "drivers = spark.read.option(\"header\", True).parquet(f\"{processed_folder_path}/drivers\")\n",
    "constructors = spark.read.option(\"header\", True).parquet(f\"{processed_folder_path}/constructors\")"
   ]
  },
  {
   "cell_type": "code",
   "execution_count": 55,
   "metadata": {},
   "outputs": [
    {
     "name": "stdout",
     "output_type": "stream",
     "text": [
      "+---------+-------+---------+--------------+------+----+--------+-------------+--------------+------+----+-----------+------------+-----------+----+----------------+-----------------+\n",
      "|result_id|race_id|driver_id|constructor_id|number|grid|position|position_text|position_order|points|laps|       time|milliseconds|fastest_lap|rank|fastest_lap_time|fastest_lap_speed|\n",
      "+---------+-------+---------+--------------+------+----+--------+-------------+--------------+------+----+-----------+------------+-----------+----+----------------+-----------------+\n",
      "|        1|     18|        1|             1|    22|   1|       1|            1|             1|  10.0|  58|1:34:50.616|     5690616|         39|   2|        1:27.452|            218.3|\n",
      "|        2|     18|        2|             2|     3|   5|       2|            2|             2|   8.0|  58|     +5.478|     5696094|         41|   3|        1:27.739|          217.586|\n",
      "+---------+-------+---------+--------------+------+----+--------+-------------+--------------+------+----+-----------+------------+-----------+----+----------------+-----------------+\n",
      "only showing top 2 rows\n",
      "\n"
     ]
    }
   ],
   "source": [
    "results.show(2)"
   ]
  },
  {
   "cell_type": "code",
   "execution_count": 56,
   "metadata": {},
   "outputs": [
    {
     "name": "stdout",
     "output_type": "stream",
     "text": [
      "+-------+---------+-----+----------+--------------------+\n",
      "|race_id|race_year|round|circuit_id|                name|\n",
      "+-------+---------+-----+----------+--------------------+\n",
      "|      1|     2009|    1|         1|Australian Grand ...|\n",
      "|      2|     2009|    2|         2|Malaysian Grand Prix|\n",
      "+-------+---------+-----+----------+--------------------+\n",
      "only showing top 2 rows\n",
      "\n"
     ]
    }
   ],
   "source": [
    "races.show(2)"
   ]
  },
  {
   "cell_type": "code",
   "execution_count": 57,
   "metadata": {},
   "outputs": [
    {
     "name": "stdout",
     "output_type": "stream",
     "text": [
      "+---------+----------+------+----+--------+--------+----------+-----------+--------------+\n",
      "|driver_id|driver_ref|number|code|forename| surname|       dob|nationality|          name|\n",
      "+---------+----------+------+----+--------+--------+----------+-----------+--------------+\n",
      "|        1|  hamilton|    44| HAM|   Lewis|Hamilton|1985-01-07|    British|Lewis Hamilton|\n",
      "|        2|  heidfeld|    \\N| HEI|    Nick|Heidfeld|1977-05-10|     German| Nick Heidfeld|\n",
      "+---------+----------+------+----+--------+--------+----------+-----------+--------------+\n",
      "only showing top 2 rows\n",
      "\n"
     ]
    }
   ],
   "source": [
    "drivers.show(2)"
   ]
  },
  {
   "cell_type": "code",
   "execution_count": 58,
   "metadata": {},
   "outputs": [
    {
     "name": "stdout",
     "output_type": "stream",
     "text": [
      "+--------------+---------------+----------+-----------+\n",
      "|constructor_id|constructor_ref|      name|nationality|\n",
      "+--------------+---------------+----------+-----------+\n",
      "|             1|        mclaren|   McLaren|    British|\n",
      "|             2|     bmw_sauber|BMW Sauber|     German|\n",
      "+--------------+---------------+----------+-----------+\n",
      "only showing top 2 rows\n",
      "\n"
     ]
    }
   ],
   "source": [
    "constructors.show(2)"
   ]
  },
  {
   "cell_type": "code",
   "execution_count": 59,
   "metadata": {},
   "outputs": [],
   "source": [
    "results.createOrReplaceTempView(\"results\")\n",
    "races.createOrReplaceTempView(\"races\")\n",
    "drivers.createOrReplaceTempView(\"drivers\")\n",
    "constructors.createOrReplaceTempView(\"constructors\")"
   ]
  },
  {
   "cell_type": "code",
   "execution_count": 60,
   "metadata": {},
   "outputs": [],
   "source": [
    "query = \"\"\"SELECT races.race_year, \n",
    "constructors.name, \n",
    "drivers.name, \n",
    "results.position, \n",
    "results.points\n",
    "FROM results\n",
    "JOIN drivers ON (results.driver_id = drivers.driver_id)\n",
    "JOIN constructors ON (results.constructor_id = constructors.constructor_id)\n",
    "JOIN races ON (results.race_id = races.race_id)\n",
    "\"\"\""
   ]
  },
  {
   "cell_type": "code",
   "execution_count": 62,
   "metadata": {},
   "outputs": [
    {
     "name": "stdout",
     "output_type": "stream",
     "text": [
      "+---------+----------+------------------+--------+------+\n",
      "|race_year|      name|              name|position|points|\n",
      "+---------+----------+------------------+--------+------+\n",
      "|     2008|   McLaren|    Lewis Hamilton|       1|  10.0|\n",
      "|     2008|BMW Sauber|     Nick Heidfeld|       2|   8.0|\n",
      "|     2008|  Williams|      Nico Rosberg|       3|   6.0|\n",
      "|     2008|   Renault|   Fernando Alonso|       4|   5.0|\n",
      "|     2008|   McLaren| Heikki Kovalainen|       5|   4.0|\n",
      "|     2008|  Williams|   Kazuki Nakajima|       6|   3.0|\n",
      "|     2008|Toro Rosso|Sébastien Bourdais|       7|   2.0|\n",
      "|     2008|   Ferrari|    Kimi Räikkönen|       8|   1.0|\n",
      "|     2008|BMW Sauber|     Robert Kubica|    null|   0.0|\n",
      "|     2008|    Toyota|        Timo Glock|    null|   0.0|\n",
      "+---------+----------+------------------+--------+------+\n",
      "only showing top 10 rows\n",
      "\n"
     ]
    }
   ],
   "source": [
    "spark.sql(query).show(10)"
   ]
  },
  {
   "cell_type": "code",
   "execution_count": 67,
   "metadata": {},
   "outputs": [],
   "source": [
    "query = \"\"\"\n",
    "SELECT races.race_year, \n",
    "    constructors.name AS team_name, \n",
    "    drivers.name AS driver_name, \n",
    "    results.position, \n",
    "    results.points,\n",
    "    11 - results.position AS calculated_points\n",
    "FROM results\n",
    "JOIN drivers ON (results.driver_id = drivers.driver_id)\n",
    "JOIN constructors ON (results.constructor_id = constructors.constructor_id)\n",
    "JOIN races ON (results.race_id = races.race_id)\n",
    "WHERE results.position <= 10\n",
    "\"\"\""
   ]
  },
  {
   "cell_type": "code",
   "execution_count": 68,
   "metadata": {},
   "outputs": [],
   "source": [
    "calculated_race_results = spark.sql(query)"
   ]
  },
  {
   "cell_type": "code",
   "execution_count": 69,
   "metadata": {},
   "outputs": [
    {
     "name": "stdout",
     "output_type": "stream",
     "text": [
      "+---------+----------+--------------+--------+------+-----------------+\n",
      "|race_year| team_name|   driver_name|position|points|calculated_points|\n",
      "+---------+----------+--------------+--------+------+-----------------+\n",
      "|     2008|   McLaren|Lewis Hamilton|       1|  10.0|               10|\n",
      "|     2008|BMW Sauber| Nick Heidfeld|       2|   8.0|                9|\n",
      "+---------+----------+--------------+--------+------+-----------------+\n",
      "only showing top 2 rows\n",
      "\n"
     ]
    }
   ],
   "source": [
    "calculated_race_results.show(2)"
   ]
  },
  {
   "cell_type": "code",
   "execution_count": 70,
   "metadata": {},
   "outputs": [],
   "source": [
    "calculated_race_results.write.mode('overwrite').parquet(f\"{processed_folder_path}/calculated_race_results\")"
   ]
  }
 ],
 "metadata": {
  "kernelspec": {
   "display_name": "Python 3",
   "language": "python",
   "name": "python3"
  },
  "language_info": {
   "codemirror_mode": {
    "name": "ipython",
    "version": 3
   },
   "file_extension": ".py",
   "mimetype": "text/x-python",
   "name": "python",
   "nbconvert_exporter": "python",
   "pygments_lexer": "ipython3",
   "version": "3.6.9"
  }
 },
 "nbformat": 4,
 "nbformat_minor": 2
}
