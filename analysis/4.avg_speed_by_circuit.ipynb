{
 "cells": [
  {
   "cell_type": "markdown",
   "metadata": {},
   "source": [
    "## Create spark context"
   ]
  },
  {
   "cell_type": "code",
   "execution_count": 1,
   "metadata": {},
   "outputs": [
    {
     "name": "stderr",
     "output_type": "stream",
     "text": [
      "/home/sunbeam/.local/lib/python3.6/site-packages/pyspark/context.py:238: FutureWarning: Python 3.6 support is deprecated in Spark 3.2.\n",
      "  FutureWarning\n"
     ]
    }
   ],
   "source": [
    "#Entrypoint 2.x\n",
    "from pyspark.sql import SparkSession\n",
    "from pyspark.sql.types import *\n",
    "from pyspark.sql.functions import *\n",
    "spark = SparkSession.builder.config(\"spark.sql.shuffle.partitions\", \"2\").appName(\"Analysis\").master(\"local[2]\").getOrCreate()\n",
    "\n",
    "# On yarn:\n",
    "# spark = SparkSession.builder.appName(\"Spark SQL basic example\").enableHiveSupport().master(\"yarn\").getOrCreate()\n",
    "# specify .master(\"yarn\")\n",
    "\n",
    "sc = spark.sparkContext"
   ]
  },
  {
   "cell_type": "code",
   "execution_count": 2,
   "metadata": {},
   "outputs": [],
   "source": [
    "%run \"../includes/configuration\""
   ]
  },
  {
   "cell_type": "markdown",
   "metadata": {},
   "source": [
    "## Read file"
   ]
  },
  {
   "cell_type": "code",
   "execution_count": 3,
   "metadata": {},
   "outputs": [],
   "source": [
    "race_results_df = spark.read.parquet(f\"{presentation_folder_path}/race_results\").withColumnRenamed(\"position\", \"result_position\").withColumnRenamed(\"grid\", \"result_grid\").withColumnRenamed(\"fastest_lap\", \"result_fastest_lap\")\n",
    "results_df = spark.read.parquet(f\"{processed_folder_path}/results\")"
   ]
  },
  {
   "cell_type": "code",
   "execution_count": 7,
   "metadata": {},
   "outputs": [],
   "source": [
    "circuit_by_speed_df = race_results_df.join(results_df, race_results_df.result_grid == results_df.grid)"
   ]
  },
  {
   "cell_type": "markdown",
   "metadata": {},
   "source": [
    "## Filter year 2019 in dataframe"
   ]
  },
  {
   "cell_type": "code",
   "execution_count": 11,
   "metadata": {},
   "outputs": [],
   "source": [
    "circuit_by_speed_df = circuit_by_speed_df.filter(\"race_year == 2019\")"
   ]
  },
  {
   "cell_type": "code",
   "execution_count": 14,
   "metadata": {},
   "outputs": [],
   "source": [
    "circuit_by_speed_df.createOrReplaceTempView(\"circuit_by_speed\")"
   ]
  },
  {
   "cell_type": "markdown",
   "metadata": {},
   "source": [
    "## Average speed on different circuits in year 2019"
   ]
  },
  {
   "cell_type": "code",
   "execution_count": 18,
   "metadata": {},
   "outputs": [],
   "source": [
    "query = \"\"\"\n",
    "SELECT r.race_name, ROUND(AVG(rs.fastest_lap_speed), 2) AS avg_speed\n",
    "FROM circuit_by_speed r\n",
    "JOIN circuit_by_speed rs ON r.race_id = rs.race_id\n",
    "GROUP BY r.race_name\n",
    "ORDER BY avg_speed\n",
    "\"\"\""
   ]
  },
  {
   "cell_type": "code",
   "execution_count": 19,
   "metadata": {},
   "outputs": [],
   "source": [
    "final_df = spark.sql(query)"
   ]
  },
  {
   "cell_type": "code",
   "execution_count": 21,
   "metadata": {},
   "outputs": [
    {
     "name": "stdout",
     "output_type": "stream",
     "text": [
      "+--------------------+---------+\n",
      "|           race_name|avg_speed|\n",
      "+--------------------+---------+\n",
      "|Azerbaijan Grand ...|   202.98|\n",
      "|Abu Dhabi Grand Prix|   203.01|\n",
      "| Japanese Grand Prix|   203.01|\n",
      "|United States Gra...|   203.01|\n",
      "| Austrian Grand Prix|   203.01|\n",
      "|Singapore Grand Prix|   203.01|\n",
      "|  Italian Grand Prix|   203.01|\n",
      "|   German Grand Prix|   203.01|\n",
      "|  Russian Grand Prix|   203.01|\n",
      "|   French Grand Prix|   203.01|\n",
      "| Canadian Grand Prix|   203.01|\n",
      "|   Monaco Grand Prix|   203.01|\n",
      "|  Chinese Grand Prix|   203.01|\n",
      "|  Bahrain Grand Prix|   203.01|\n",
      "|Brazilian Grand Prix|   203.01|\n",
      "|  Mexican Grand Prix|   203.01|\n",
      "|  Belgian Grand Prix|   203.01|\n",
      "|Hungarian Grand Prix|   203.01|\n",
      "|  British Grand Prix|   203.01|\n",
      "|  Spanish Grand Prix|   203.01|\n",
      "+--------------------+---------+\n",
      "only showing top 20 rows\n",
      "\n"
     ]
    }
   ],
   "source": [
    "final_df.show()"
   ]
  },
  {
   "cell_type": "code",
   "execution_count": null,
   "metadata": {},
   "outputs": [],
   "source": []
  },
  {
   "cell_type": "code",
   "execution_count": null,
   "metadata": {},
   "outputs": [],
   "source": [
    "query = \"\"\"\n",
    "SELECT r.race_name, ROUND(AVG(rs.fastest_lap_speed), 2) AS avg_speed\n",
    "FROM circuit_by_speed r\n",
    "JOIN circuit_by_speed rs ON r.race_id = rs.race_id\n",
    "GROUP BY r.race_name\n",
    "ORDER BY avg_speed\n",
    "\"\"\""
   ]
  }
 ],
 "metadata": {
  "kernelspec": {
   "display_name": "Python 3",
   "language": "python",
   "name": "python3"
  },
  "language_info": {
   "codemirror_mode": {
    "name": "ipython",
    "version": 3
   },
   "file_extension": ".py",
   "mimetype": "text/x-python",
   "name": "python",
   "nbconvert_exporter": "python",
   "pygments_lexer": "ipython3",
   "version": "3.6.9"
  }
 },
 "nbformat": 4,
 "nbformat_minor": 2
}
