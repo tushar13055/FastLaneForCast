{
 "cells": [
  {
   "cell_type": "markdown",
   "metadata": {},
   "source": [
    "## Create spark context"
   ]
  },
  {
   "cell_type": "code",
   "execution_count": 1,
   "metadata": {},
   "outputs": [
    {
     "name": "stderr",
     "output_type": "stream",
     "text": [
      "/home/sunbeam/.local/lib/python3.6/site-packages/pyspark/context.py:238: FutureWarning: Python 3.6 support is deprecated in Spark 3.2.\n",
      "  FutureWarning\n"
     ]
    }
   ],
   "source": [
    "#Entrypoint 2.x\n",
    "from pyspark.sql import SparkSession\n",
    "from pyspark.sql.types import *\n",
    "from pyspark.sql.functions import *\n",
    "spark = SparkSession.builder.config(\"spark.sql.shuffle.partitions\", \"2\").appName(\"Analysis\").master(\"local[2]\").getOrCreate()\n",
    "\n",
    "# On yarn:\n",
    "# spark = SparkSession.builder.appName(\"Spark SQL basic example\").enableHiveSupport().master(\"yarn\").getOrCreate()\n",
    "# specify .master(\"yarn\")\n",
    "\n",
    "sc = spark.sparkContext"
   ]
  },
  {
   "cell_type": "code",
   "execution_count": 2,
   "metadata": {},
   "outputs": [],
   "source": [
    "%run \"../includes/configuration\""
   ]
  },
  {
   "cell_type": "markdown",
   "metadata": {},
   "source": [
    "## Read file"
   ]
  },
  {
   "cell_type": "code",
   "execution_count": 3,
   "metadata": {},
   "outputs": [],
   "source": [
    "race_results_df = spark.read.parquet(f\"{presentation_folder_path}/race_results\")"
   ]
  },
  {
   "cell_type": "markdown",
   "metadata": {},
   "source": [
    "## Create view to query required data"
   ]
  },
  {
   "cell_type": "code",
   "execution_count": 4,
   "metadata": {},
   "outputs": [],
   "source": [
    "race_results_df.createOrReplaceTempView(\"results\")"
   ]
  },
  {
   "cell_type": "markdown",
   "metadata": {},
   "source": [
    "## Query to find starting position and finishing of driver at Abu Dhabi Grand Prix in year 2020"
   ]
  },
  {
   "cell_type": "code",
   "execution_count": 7,
   "metadata": {},
   "outputs": [],
   "source": [
    "query = \"\"\"\n",
    "SELECT \n",
    "    driver_name,\n",
    "    team,\n",
    "    grid AS grid_position,\n",
    "    position as finishing_position\n",
    "FROM results\n",
    "WHERE race_year = 2019 AND race_name = 'Abu Dhabi Grand Prix' AND position IS NOT NULL\n",
    "ORDER BY position ASC;\n",
    "\"\"\""
   ]
  },
  {
   "cell_type": "code",
   "execution_count": 8,
   "metadata": {},
   "outputs": [
    {
     "name": "stdout",
     "output_type": "stream",
     "text": [
      "+------------------+------------+-------------+------------------+\n",
      "|       driver_name|        team|grid_position|finishing_position|\n",
      "+------------------+------------+-------------+------------------+\n",
      "|    Lewis Hamilton|    Mercedes|            1|                 1|\n",
      "|    Max Verstappen|    Red Bull|            2|                 2|\n",
      "|   Charles Leclerc|     Ferrari|            3|                 3|\n",
      "|   Valtteri Bottas|    Mercedes|           20|                 4|\n",
      "|  Sebastian Vettel|     Ferrari|            4|                 5|\n",
      "|   Alexander Albon|    Red Bull|            5|                 6|\n",
      "|      Sergio Pérez|Racing Point|           10|                 7|\n",
      "|      Lando Norris|     McLaren|            6|                 8|\n",
      "|      Daniil Kvyat|  Toro Rosso|           13|                 9|\n",
      "|      Carlos Sainz|     McLaren|            8|                10|\n",
      "|  Daniel Ricciardo|     Renault|            7|                11|\n",
      "|   Nico Hülkenberg|     Renault|            9|                12|\n",
      "|    Kimi Räikkönen|  Alfa Romeo|           17|                13|\n",
      "|   Kevin Magnussen|Haas F1 Team|           14|                14|\n",
      "|   Romain Grosjean|Haas F1 Team|           15|                15|\n",
      "|Antonio Giovinazzi|  Alfa Romeo|           16|                16|\n",
      "|    George Russell|    Williams|           18|                17|\n",
      "|      Pierre Gasly|  Toro Rosso|           11|                18|\n",
      "|     Robert Kubica|    Williams|           19|                19|\n",
      "+------------------+------------+-------------+------------------+\n",
      "\n"
     ]
    }
   ],
   "source": [
    "spark.sql(query).show()"
   ]
  },
  {
   "cell_type": "code",
   "execution_count": null,
   "metadata": {},
   "outputs": [],
   "source": []
  }
 ],
 "metadata": {
  "kernelspec": {
   "display_name": "Python 3",
   "language": "python",
   "name": "python3"
  },
  "language_info": {
   "codemirror_mode": {
    "name": "ipython",
    "version": 3
   },
   "file_extension": ".py",
   "mimetype": "text/x-python",
   "name": "python",
   "nbconvert_exporter": "python",
   "pygments_lexer": "ipython3",
   "version": "3.6.9"
  }
 },
 "nbformat": 4,
 "nbformat_minor": 2
}
