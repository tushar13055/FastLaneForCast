{
 "cells": [
  {
   "cell_type": "markdown",
   "metadata": {},
   "source": [
    "## Create spark context"
   ]
  },
  {
   "cell_type": "code",
   "execution_count": 1,
   "metadata": {},
   "outputs": [
    {
     "name": "stderr",
     "output_type": "stream",
     "text": [
      "/home/sunbeam/.local/lib/python3.6/site-packages/pyspark/context.py:238: FutureWarning: Python 3.6 support is deprecated in Spark 3.2.\n",
      "  FutureWarning\n"
     ]
    }
   ],
   "source": [
    "#Entrypoint 2.x\n",
    "from pyspark.sql import SparkSession\n",
    "from pyspark.sql.types import *\n",
    "from pyspark.sql.functions import *\n",
    "spark = SparkSession.builder.config(\"spark.sql.shuffle.partitions\", \"2\").appName(\"Analysis\").master(\"local[2]\").getOrCreate()\n",
    "\n",
    "# On yarn:\n",
    "# spark = SparkSession.builder.appName(\"Spark SQL basic example\").enableHiveSupport().master(\"yarn\").getOrCreate()\n",
    "# specify .master(\"yarn\")\n",
    "\n",
    "sc = spark.sparkContext"
   ]
  },
  {
   "cell_type": "code",
   "execution_count": 2,
   "metadata": {},
   "outputs": [],
   "source": [
    "%run \"../includes/configuration\""
   ]
  },
  {
   "cell_type": "code",
   "execution_count": 3,
   "metadata": {},
   "outputs": [],
   "source": [
    "calculated_race_results = spark.read.parquet(f\"{processed_folder_path}/calculated_race_results\")"
   ]
  },
  {
   "cell_type": "code",
   "execution_count": 4,
   "metadata": {},
   "outputs": [],
   "source": [
    "calculated_race_results.createOrReplaceTempView(\"calculated_race_results\")"
   ]
  },
  {
   "cell_type": "markdown",
   "metadata": {},
   "source": [
    "## Dominant drivers of all time"
   ]
  },
  {
   "cell_type": "code",
   "execution_count": 5,
   "metadata": {},
   "outputs": [],
   "source": [
    "query = \"\"\"\n",
    "SELECT \n",
    "    driver_name,\n",
    "    COUNT(1) AS total_races,\n",
    "    SUM(calculated_points) AS total_points,\n",
    "    AVG(calculated_points) AS avg_points\n",
    "FROM calculated_race_results\n",
    "GROUP BY driver_name\n",
    "HAVING total_races >= 50\n",
    "ORDER BY avg_points DESC;\n",
    "\"\"\""
   ]
  },
  {
   "cell_type": "code",
   "execution_count": 12,
   "metadata": {},
   "outputs": [
    {
     "name": "stdout",
     "output_type": "stream",
     "text": [
      "+--------------------+-----------+------------+------------------+\n",
      "|         driver_name|total_races|total_points|        avg_points|\n",
      "+--------------------+-----------+------------+------------------+\n",
      "|  Michael Schumacher|        104|         832|               8.0|\n",
      "|      Lewis Hamilton|         55|         425|7.7272727272727275|\n",
      "|  Juan Pablo Montoya|         58|         427| 7.362068965517241|\n",
      "|     Fernando Alonso|        114|         827| 7.254385964912281|\n",
      "|      Kimi Räikkönen|        106|         758| 7.150943396226415|\n",
      "|  Rubens Barrichello|        113|         696|  6.15929203539823|\n",
      "|       Jenson Button|        102|         601| 5.892156862745098|\n",
      "|        Felipe Massa|         93|         533| 5.731182795698925|\n",
      "|     Ralf Schumacher|         70|         399|               5.7|\n",
      "|       Robert Kubica|         51|         283| 5.549019607843137|\n",
      "|     David Coulthard|         79|         424| 5.367088607594937|\n",
      "|        Jarno Trulli|         83|         409| 4.927710843373494|\n",
      "|         Mark Webber|         84|         411| 4.892857142857143|\n",
      "|Giancarlo Fisichella|         74|         361| 4.878378378378378|\n",
      "|       Nick Heidfeld|         92|         418| 4.543478260869565|\n",
      "|        Nico Rosberg|         51|         226| 4.431372549019608|\n",
      "+--------------------+-----------+------------+------------------+\n",
      "\n"
     ]
    }
   ],
   "source": [
    "spark.sql(query).show()"
   ]
  },
  {
   "cell_type": "code",
   "execution_count": 6,
   "metadata": {},
   "outputs": [],
   "source": [
    "all_time_df = spark.sql(query)"
   ]
  },
  {
   "cell_type": "code",
   "execution_count": 7,
   "metadata": {},
   "outputs": [],
   "source": [
    "all_time_df.write.csv(\"/home/sunbeam/Desktop/FastLaneForecast/final_analysis/drivers\", header=True)"
   ]
  },
  {
   "cell_type": "markdown",
   "metadata": {},
   "source": [
    "## Dominant drivers of last decade"
   ]
  },
  {
   "cell_type": "code",
   "execution_count": 8,
   "metadata": {},
   "outputs": [],
   "source": [
    "query = \"\"\"\n",
    "SELECT \n",
    "    driver_name,\n",
    "    COUNT(1) AS total_races,\n",
    "    SUM(calculated_points) AS total_points,\n",
    "    AVG(calculated_points) AS avg_points\n",
    "FROM calculated_race_results\n",
    "WHERE race_year BETWEEN 2011 AND 2018\n",
    "GROUP BY driver_name\n",
    "HAVING total_races >= 50\n",
    "ORDER BY avg_points DESC;\n",
    "\"\"\""
   ]
  },
  {
   "cell_type": "code",
   "execution_count": 9,
   "metadata": {},
   "outputs": [
    {
     "name": "stdout",
     "output_type": "stream",
     "text": [
      "+----------------+-----------+------------+------------------+\n",
      "|     driver_name|total_races|total_points|        avg_points|\n",
      "+----------------+-----------+------------+------------------+\n",
      "|  Lewis Hamilton|        140|        1151| 8.221428571428572|\n",
      "|Sebastian Vettel|        141|        1136| 8.056737588652481|\n",
      "|    Nico Rosberg|         93|         673| 7.236559139784946|\n",
      "|  Max Verstappen|         57|         360| 6.315789473684211|\n",
      "| Valtteri Bottas|         84|         525|              6.25|\n",
      "|  Kimi Räikkönen|        110|         687| 6.245454545454545|\n",
      "| Fernando Alonso|         95|         584| 6.147368421052631|\n",
      "|Daniel Ricciardo|         89|         533|  5.98876404494382|\n",
      "|   Jenson Button|         69|         377| 5.463768115942029|\n",
      "|    Felipe Massa|         94|         427| 4.542553191489362|\n",
      "| Romain Grosjean|         55|         236| 4.290909090909091|\n",
      "| Nico Hülkenberg|         78|         295| 3.782051282051282|\n",
      "|    Sergio Pérez|         92|         340|3.6956521739130435|\n",
      "+----------------+-----------+------------+------------------+\n",
      "\n"
     ]
    }
   ],
   "source": [
    "spark.sql(query).show()"
   ]
  },
  {
   "cell_type": "markdown",
   "metadata": {},
   "source": [
    "## Dominant drivers of decade 2001 - 2010"
   ]
  },
  {
   "cell_type": "code",
   "execution_count": 10,
   "metadata": {},
   "outputs": [],
   "source": [
    "query = \"\"\"\n",
    "SELECT \n",
    "    driver_name,\n",
    "    COUNT(1) AS total_races,\n",
    "    SUM(calculated_points) AS total_points,\n",
    "    AVG(calculated_points) AS avg_points\n",
    "FROM calculated_race_results\n",
    "WHERE race_year BETWEEN 2001 AND 2010\n",
    "GROUP BY driver_name\n",
    "HAVING total_races >= 50\n",
    "ORDER BY avg_points DESC;\n",
    "\"\"\""
   ]
  },
  {
   "cell_type": "code",
   "execution_count": 11,
   "metadata": {},
   "outputs": [
    {
     "name": "stdout",
     "output_type": "stream",
     "text": [
      "+--------------------+-----------+------------+------------------+\n",
      "|         driver_name|total_races|total_points|        avg_points|\n",
      "+--------------------+-----------+------------+------------------+\n",
      "|  Michael Schumacher|        104|         832|               8.0|\n",
      "|      Lewis Hamilton|         55|         425|7.7272727272727275|\n",
      "|  Juan Pablo Montoya|         58|         427| 7.362068965517241|\n",
      "|     Fernando Alonso|        114|         827| 7.254385964912281|\n",
      "|      Kimi Räikkönen|        106|         758| 7.150943396226415|\n",
      "|  Rubens Barrichello|        113|         696|  6.15929203539823|\n",
      "|       Jenson Button|        102|         601| 5.892156862745098|\n",
      "|        Felipe Massa|         93|         533| 5.731182795698925|\n",
      "|     Ralf Schumacher|         70|         399|               5.7|\n",
      "|       Robert Kubica|         51|         283| 5.549019607843137|\n",
      "|     David Coulthard|         79|         424| 5.367088607594937|\n",
      "|        Jarno Trulli|         83|         409| 4.927710843373494|\n",
      "|         Mark Webber|         84|         411| 4.892857142857143|\n",
      "|Giancarlo Fisichella|         74|         361| 4.878378378378378|\n",
      "|       Nick Heidfeld|         92|         418| 4.543478260869565|\n",
      "|        Nico Rosberg|         51|         226| 4.431372549019608|\n",
      "+--------------------+-----------+------------+------------------+\n",
      "\n"
     ]
    }
   ],
   "source": [
    "spark.sql(query).show()"
   ]
  }
 ],
 "metadata": {
  "kernelspec": {
   "display_name": "Python 3",
   "language": "python",
   "name": "python3"
  },
  "language_info": {
   "codemirror_mode": {
    "name": "ipython",
    "version": 3
   },
   "file_extension": ".py",
   "mimetype": "text/x-python",
   "name": "python",
   "nbconvert_exporter": "python",
   "pygments_lexer": "ipython3",
   "version": "3.6.9"
  }
 },
 "nbformat": 4,
 "nbformat_minor": 2
}
