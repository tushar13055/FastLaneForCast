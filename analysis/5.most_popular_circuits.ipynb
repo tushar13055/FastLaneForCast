{
 "cells": [
  {
   "cell_type": "markdown",
   "metadata": {},
   "source": [
    "## Create spark context"
   ]
  },
  {
   "cell_type": "code",
   "execution_count": 24,
   "metadata": {},
   "outputs": [],
   "source": [
    "#Entrypoint 2.x\n",
    "from pyspark.sql import SparkSession\n",
    "from pyspark.sql.types import *\n",
    "from pyspark.sql.functions import *\n",
    "spark = SparkSession.builder.config(\"spark.sql.shuffle.partitions\", \"2\").appName(\"Analysis\").master(\"local[2]\").getOrCreate()\n",
    "\n",
    "# On yarn:\n",
    "# spark = SparkSession.builder.appName(\"Spark SQL basic example\").enableHiveSupport().master(\"yarn\").getOrCreate()\n",
    "# specify .master(\"yarn\")\n",
    "\n",
    "sc = spark.sparkContext"
   ]
  },
  {
   "cell_type": "code",
   "execution_count": 25,
   "metadata": {},
   "outputs": [],
   "source": [
    "%run \"../includes/configuration\""
   ]
  },
  {
   "cell_type": "markdown",
   "metadata": {},
   "source": [
    "## Read files"
   ]
  },
  {
   "cell_type": "code",
   "execution_count": 26,
   "metadata": {},
   "outputs": [],
   "source": [
    "races_df = spark.read.csv(r\"/home/sunbeam/Desktop/FastLaneForecast/csv_transformations/clean_csv/races_clean.csv\", header = True).withColumnRenamed(\"circuit_id\", \"races_circuit_id\").withColumnRenamed(\"name\", \"race_name\")\n",
    "circuits_df = spark.read.csv(r\"/home/sunbeam/Desktop/FastLaneForecast/csv_transformations/clean_csv/circuits_clean.csv\", header = True).withColumnRenamed(\"name\", \"circuit_name\")"
   ]
  },
  {
   "cell_type": "code",
   "execution_count": 27,
   "metadata": {},
   "outputs": [
    {
     "data": {
      "text/plain": [
       "['race_id', 'round', 'races_circuit_id', 'race_name', 'race_year']"
      ]
     },
     "execution_count": 27,
     "metadata": {},
     "output_type": "execute_result"
    }
   ],
   "source": [
    "races_df.columns"
   ]
  },
  {
   "cell_type": "code",
   "execution_count": 28,
   "metadata": {},
   "outputs": [
    {
     "data": {
      "text/plain": [
       "['circuit_id',\n",
       " 'circuit_ref',\n",
       " 'circuit_name',\n",
       " 'location',\n",
       " 'country',\n",
       " 'latitude',\n",
       " 'longitude',\n",
       " 'altitude']"
      ]
     },
     "execution_count": 28,
     "metadata": {},
     "output_type": "execute_result"
    }
   ],
   "source": [
    "circuits_df.columns"
   ]
  },
  {
   "cell_type": "markdown",
   "metadata": {},
   "source": [
    "## Most popular circuit of all time"
   ]
  },
  {
   "cell_type": "code",
   "execution_count": 29,
   "metadata": {},
   "outputs": [],
   "source": [
    "circuits_races_df = circuits_df.join(races_df, circuits_df.circuit_id == races_df.races_circuit_id)"
   ]
  },
  {
   "cell_type": "code",
   "execution_count": 50,
   "metadata": {},
   "outputs": [
    {
     "data": {
      "text/plain": [
       "['circuit_id',\n",
       " 'circuit_ref',\n",
       " 'circuit_name',\n",
       " 'location',\n",
       " 'country',\n",
       " 'latitude',\n",
       " 'longitude',\n",
       " 'altitude',\n",
       " 'race_id',\n",
       " 'round',\n",
       " 'races_circuit_id',\n",
       " 'race_name',\n",
       " 'race_year']"
      ]
     },
     "execution_count": 50,
     "metadata": {},
     "output_type": "execute_result"
    }
   ],
   "source": [
    "circuits_races_df.columns"
   ]
  },
  {
   "cell_type": "code",
   "execution_count": 31,
   "metadata": {},
   "outputs": [],
   "source": [
    "circuits_races_df.createOrReplaceTempView(\"circuits_races_table\")"
   ]
  },
  {
   "cell_type": "code",
   "execution_count": 51,
   "metadata": {},
   "outputs": [],
   "source": [
    "query = \"\"\"\n",
    "SELECT\n",
    "    country,\n",
    "    circuit_name,\n",
    "    COUNT(race_id) AS races_count\n",
    "FROM circuits_races_table\n",
    "GROUP BY country, circuit_name\n",
    "ORDER BY races_count DESC\n",
    "\"\"\""
   ]
  },
  {
   "cell_type": "code",
   "execution_count": 52,
   "metadata": {},
   "outputs": [
    {
     "name": "stdout",
     "output_type": "stream",
     "text": [
      "+------------+--------------------+-----------+\n",
      "|     country|        circuit_name|races_count|\n",
      "+------------+--------------------+-----------+\n",
      "|       Italy|Autodromo Naziona...|         71|\n",
      "|      Monaco|   Circuit de Monaco|         67|\n",
      "|          UK| Silverstone Circuit|         56|\n",
      "|     Belgium|Circuit de Spa-Fr...|         54|\n",
      "|     Germany|         Nürburgring|         42|\n",
      "|      Canada|Circuit Gilles Vi...|         41|\n",
      "|      Brazil|Autódromo José Ca...|         38|\n",
      "|     Germany|      Hockenheimring|         37|\n",
      "|     Hungary|         Hungaroring|         36|\n",
      "|       Japan|      Suzuka Circuit|         32|\n",
      "|       Spain|Circuit de Barcel...|         31|\n",
      "| Netherlands|Circuit Park Zand...|         31|\n",
      "|       Italy|Autodromo Enzo e ...|         29|\n",
      "|     Austria|             A1-Ring|         25|\n",
      "|   Australia|Albert Park Grand...|         25|\n",
      "|      Mexico|Autódromo Hermano...|         21|\n",
      "|         USA|        Watkins Glen|         20|\n",
      "|   Argentina|Autódromo Juan y ...|         20|\n",
      "|South Africa|             Kyalami|         20|\n",
      "|    Malaysia|Sepang Internatio...|         19|\n",
      "+------------+--------------------+-----------+\n",
      "only showing top 20 rows\n",
      "\n"
     ]
    }
   ],
   "source": [
    "spark.sql(query).show()"
   ]
  },
  {
   "cell_type": "markdown",
   "metadata": {},
   "source": [
    "## Most popular circuit of last decade"
   ]
  },
  {
   "cell_type": "code",
   "execution_count": 53,
   "metadata": {},
   "outputs": [],
   "source": [
    "query = \"\"\"\n",
    "SELECT\n",
    "    country,\n",
    "    circuit_name,\n",
    "    COUNT(race_id) AS races_count\n",
    "FROM circuits_races_table\n",
    "WHERE race_year BETWEEN 2011 AND 2020\n",
    "GROUP BY country, circuit_name\n",
    "ORDER BY races_count DESC\n",
    "\"\"\""
   ]
  },
  {
   "cell_type": "code",
   "execution_count": 54,
   "metadata": {},
   "outputs": [
    {
     "name": "stdout",
     "output_type": "stream",
     "text": [
      "+---------+--------------------+-----------+\n",
      "|  country|        circuit_name|races_count|\n",
      "+---------+--------------------+-----------+\n",
      "|       UK| Silverstone Circuit|         11|\n",
      "|  Belgium|Circuit de Spa-Fr...|         10|\n",
      "|  Hungary|         Hungaroring|         10|\n",
      "|      UAE|  Yas Marina Circuit|         10|\n",
      "|  Bahrain|Bahrain Internati...|         10|\n",
      "|    Italy|Autodromo Naziona...|         10|\n",
      "|    Spain|Circuit de Barcel...|         10|\n",
      "|Australia|Albert Park Grand...|          9|\n",
      "|Singapore|Marina Bay Street...|          9|\n",
      "|   Canada|Circuit Gilles Vi...|          9|\n",
      "|    China|Shanghai Internat...|          9|\n",
      "|   Monaco|   Circuit de Monaco|          9|\n",
      "|    Japan|      Suzuka Circuit|          9|\n",
      "|   Brazil|Autódromo José Ca...|          9|\n",
      "|      USA|Circuit of the Am...|          8|\n",
      "|  Austria|       Red Bull Ring|          8|\n",
      "| Malaysia|Sepang Internatio...|          7|\n",
      "|   Russia|      Sochi Autodrom|          7|\n",
      "|  Germany|      Hockenheimring|          5|\n",
      "|   Mexico|Autódromo Hermano...|          5|\n",
      "+---------+--------------------+-----------+\n",
      "only showing top 20 rows\n",
      "\n"
     ]
    }
   ],
   "source": [
    "spark.sql(query).show()"
   ]
  },
  {
   "cell_type": "code",
   "execution_count": null,
   "metadata": {},
   "outputs": [],
   "source": []
  }
 ],
 "metadata": {
  "kernelspec": {
   "display_name": "Python 3",
   "language": "python",
   "name": "python3"
  },
  "language_info": {
   "codemirror_mode": {
    "name": "ipython",
    "version": 3
   },
   "file_extension": ".py",
   "mimetype": "text/x-python",
   "name": "python",
   "nbconvert_exporter": "python",
   "pygments_lexer": "ipython3",
   "version": "3.6.9"
  }
 },
 "nbformat": 4,
 "nbformat_minor": 2
}
